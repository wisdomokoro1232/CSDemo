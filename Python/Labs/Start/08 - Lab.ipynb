{
 "cells": [
  {
   "cell_type": "markdown",
   "metadata": {},
   "source": [
    "# Import the libraries"
   ]
  },
  {
   "cell_type": "code",
   "execution_count": null,
   "metadata": {},
   "outputs": [],
   "source": [
    "# YOUR CODE GOES HERE"
   ]
  },
  {
   "cell_type": "markdown",
   "metadata": {},
   "source": [
    "# PART 1\n",
    "\n",
    "## Import the sales and stores files for adidas\n",
    "\n",
    "- Adidas_Sales.csv\n",
    "\n",
    "- Adidas_Stores.csv"
   ]
  },
  {
   "cell_type": "code",
   "execution_count": null,
   "metadata": {},
   "outputs": [],
   "source": [
    "# Load in the entire data set from the Sales file\n",
    "# YOUR CODE GOES HERE\n",
    "\n",
    "# Load in only a selected subset of columns from the Stores file\n",
    "cols = ['Asset ID', 'Location', 'Province', 'City', 'Asset Type','Employees']\n",
    "df_stores = pd.read_csv(filepath_or_buffer='../Data/Adidas_Stores.csv', index_col='Asset ID', usecols=cols)\n"
   ]
  },
  {
   "cell_type": "markdown",
   "metadata": {},
   "source": [
    "## Merge both datasets into a single dataset"
   ]
  },
  {
   "cell_type": "code",
   "execution_count": null,
   "metadata": {},
   "outputs": [],
   "source": [
    "# YOUR CODE GOES HERE"
   ]
  },
  {
   "cell_type": "markdown",
   "metadata": {},
   "source": [
    "# Part 2 - Build a multi index\n",
    "\n",
    "Use the columns \n",
    "- Asset ID\n",
    "- Location\n",
    "- Province\n",
    "- Cit\n",
    "- Asset Type\n",
    "- Brand\n",
    "- Financials"
   ]
  },
  {
   "cell_type": "code",
   "execution_count": 1,
   "metadata": {},
   "outputs": [],
   "source": [
    "# YOUR CODE GOES HERE\n"
   ]
  },
  {
   "cell_type": "markdown",
   "metadata": {},
   "source": [
    "# Part 3 - Pivot Tables\n",
    "\n",
    "Using the same Multi Index created for part 2, produce pivots for the following\n",
    "\n",
    "1)  Produce pivots for the following\n",
    "    - by Asset ID\n",
    "    - by Location\n",
    "    - by Province\n",
    "    - by City\n",
    "    - by Asset Type\n",
    "    - by Brand\n",
    "    - by Financials\n",
    "\n",
    "2) Create a pivot of the following\n",
    "    - Location, Province, Asset Type\n",
    "    - For each quarter between Mar-16 and Dec-17 (inclusive)"
   ]
  },
  {
   "cell_type": "code",
   "execution_count": null,
   "metadata": {},
   "outputs": [],
   "source": [
    "pd.options.display.float_format = '{:,.0f}'.format\n",
    "# YOUR CODE GOES HERE"
   ]
  },
  {
   "cell_type": "markdown",
   "metadata": {},
   "source": [
    "# Part 4 - Group By\n",
    "\n",
    "Using the same Multi Index created for part 2, use the pandas.groupby method to produce groups of the following\n",
    "\n",
    "1) The sum of all Financials for each Location for the quarters Mar-16 through to Dec-17 inclusive\n",
    "\n",
    "2) The total number of employees for the entire enterprise grouped by Lcoation, Brand and City \n",
    "\n"
   ]
  },
  {
   "cell_type": "code",
   "execution_count": null,
   "metadata": {
    "scrolled": true
   },
   "outputs": [],
   "source": [
    "# YOUR CODE GOES HERE"
   ]
  },
  {
   "cell_type": "markdown",
   "metadata": {},
   "source": [
    "# Part 5 - Cross Sections\n",
    "\n",
    "Use the pandas.xs method to produce the following cross sections\n",
    "\n",
    "1) Total quarterly Financials for the USA for the year 2018\n",
    "\n",
    "2) Total quarterly Operating Income for each country for the year 2017"
   ]
  },
  {
   "cell_type": "code",
   "execution_count": null,
   "metadata": {},
   "outputs": [],
   "source": [
    "# the total Financials for the United States for the year 2018\n",
    "# YOUR CODE GOES HERE"
   ]
  },
  {
   "cell_type": "code",
   "execution_count": null,
   "metadata": {
    "scrolled": true
   },
   "outputs": [],
   "source": [
    "# The operating income for all countries\n",
    "\n",
    "# YOUR CODE GOES HERE"
   ]
  },
  {
   "cell_type": "code",
   "execution_count": null,
   "metadata": {},
   "outputs": [],
   "source": []
  }
 ],
 "metadata": {
  "kernelspec": {
   "display_name": "Python 3 (ipykernel)",
   "language": "python",
   "name": "python3"
  },
  "language_info": {
   "codemirror_mode": {
    "name": "ipython",
    "version": 3
   },
   "file_extension": ".py",
   "mimetype": "text/x-python",
   "name": "python",
   "nbconvert_exporter": "python",
   "pygments_lexer": "ipython3",
   "version": "3.10.9"
  }
 },
 "nbformat": 4,
 "nbformat_minor": 4
}
