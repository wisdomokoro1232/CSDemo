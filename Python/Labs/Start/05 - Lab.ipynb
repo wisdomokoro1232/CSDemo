{
 "cells": [
  {
   "cell_type": "markdown",
   "metadata": {},
   "source": [
    "# 1 – Import the libraries you need to work with DataFrames\n"
   ]
  },
  {
   "cell_type": "code",
   "execution_count": null,
   "metadata": {},
   "outputs": [],
   "source": [
    "# YOUR CODE GOES HERE"
   ]
  },
  {
   "cell_type": "markdown",
   "metadata": {},
   "source": [
    "# 2 ) – Joining 3 DataSets\n",
    "\n",
    "- Using a the data in the files ADJ_OHLC.csv, DivSplits.csv and AdjVols.csv\n",
    "- Create a new data frame which is a join across all 3 files on the ‘Date’ column.\n",
    "- Pick the correct join method that gives a fully populated DataFrame\n",
    "- How many rows are in the new DataFrame"
   ]
  },
  {
   "cell_type": "code",
   "execution_count": null,
   "metadata": {
    "scrolled": true
   },
   "outputs": [],
   "source": [
    "df_OHLC = pd.read_csv('../Data/ADJ_OHLC.csv', index_col='Date', parse_dates = True, dayfirst=True)\n",
    "df_DivSplits = pd.read_csv('../Data/DivSplits.csv', index_col='Date', parse_dates = True, dayfirst=True)\n",
    "df_Vols = pd.read_csv('../Data/AdjVols.csv', index_col='Date', parse_dates = True, dayfirst=True)\n",
    "\n",
    "# YOUR CODE GOES HERE"
   ]
  },
  {
   "cell_type": "markdown",
   "metadata": {},
   "source": [
    "# 3) – Group by time\n",
    "\n",
    "- Add a new column, ‘DayRange’ which is the difference between the Adjusted High and Adjusted Low.- \n",
    "- Display then mean Adjusted Close and Day Range grouped by calender month\n"
   ]
  },
  {
   "cell_type": "code",
   "execution_count": null,
   "metadata": {},
   "outputs": [],
   "source": [
    "# YOUR CODE GOES HERE"
   ]
  },
  {
   "cell_type": "code",
   "execution_count": null,
   "metadata": {},
   "outputs": [],
   "source": []
  },
  {
   "cell_type": "code",
   "execution_count": null,
   "metadata": {},
   "outputs": [],
   "source": []
  }
 ],
 "metadata": {
  "kernelspec": {
   "display_name": "Python 3 (ipykernel)",
   "language": "python",
   "name": "python3"
  },
  "language_info": {
   "codemirror_mode": {
    "name": "ipython",
    "version": 3
   },
   "file_extension": ".py",
   "mimetype": "text/x-python",
   "name": "python",
   "nbconvert_exporter": "python",
   "pygments_lexer": "ipython3",
   "version": "3.10.9"
  }
 },
 "nbformat": 4,
 "nbformat_minor": 4
}
