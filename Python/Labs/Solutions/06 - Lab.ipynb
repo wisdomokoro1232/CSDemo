{
 "cells": [
  {
   "cell_type": "markdown",
   "metadata": {},
   "source": [
    "# 1) – Import the libraries you need to work with DataFrames"
   ]
  },
  {
   "cell_type": "code",
   "execution_count": null,
   "metadata": {},
   "outputs": [],
   "source": [
    "import warnings\n",
    "warnings.filterwarnings(\"ignore\", category=DeprecationWarning) \n",
    "warnings.filterwarnings(\"ignore\", category=FutureWarning) \n",
    "\n",
    "import pandas as pd\n",
    "import numpy as np\n",
    "import matplotlib.pyplot as plt"
   ]
  },
  {
   "cell_type": "markdown",
   "metadata": {},
   "source": [
    "# 2) – Read in badly formatted currency data\n",
    "-\tExamine the csv file USD_CNY.csv and notice how badly formatted it is.\n",
    "-\tUsing the csv file USD_CNY.csv, load the data in and format it as follows\n",
    "-\tMake the Date Column the index\n",
    "-\tChange the format of the Price, Open, High and Low columns so that they are numeric and also do not have any currency symbols or commas ($ and , are to be removed).\n",
    "-\tRemove the % symbol from the Change column and make this numeric so that 2.35% is represented by the value 2.35 (not 0.025)\n",
    "-\tCheck for nulls and replace these with the preceding value.\n"
   ]
  },
  {
   "cell_type": "code",
   "execution_count": null,
   "metadata": {},
   "outputs": [],
   "source": [
    "df = pd.read_csv(\"../Data/USD_CNY.csv\", delimiter='\\t', parse_dates=True)\n",
    "\n",
    "# Fix the Date, including sorting the index\n",
    "df = df.set_index('Date')\n",
    "df.index = pd.DatetimeIndex(df.index)\n",
    "df = df.sort_index(ascending=True)\n",
    "\n",
    "# In 3 Seperate steps for each of Price, Open, High and Low\n",
    "df['Price'] = df['Price'].str.replace(',', '')\n",
    "df['Price'] = df['Price'].str.replace('$', '')\n",
    "df['Price'] = pd.to_numeric(df['Price'])\n",
    "\n",
    "df['Open'] = df['Open'].str.replace(',', '')\n",
    "df['Open'] = df['Open'].str.replace('$', '')\n",
    "df['Open'] = pd.to_numeric(df['Open'])\n",
    "\n",
    "df['High'] = df['High'].str.replace(',', '')\n",
    "df['High'] = df['High'].str.replace('$', '')\n",
    "df['High'] = pd.to_numeric(df['High'])\n",
    "\n",
    "df['Low'] = df['Low'].str.replace(',', '')\n",
    "df['Low'] = df['Low'].str.replace('$', '')\n",
    "df['Low'] = pd.to_numeric(df['Low'])\n",
    "\n",
    "# 2 steps for Change % colum\n",
    "df['Change %'] = df['Change %'].str.replace('%', '')\n",
    "df['Change %'] = pd.to_numeric(df['Change %']) * 100\n"
   ]
  },
  {
   "cell_type": "code",
   "execution_count": null,
   "metadata": {},
   "outputs": [],
   "source": [
    "# Using np.where to replace null values\n",
    "# There are alternatives but this is as good as any\n",
    "# where (value is null, replace with preceeding value, otherwise reaplce with itself)\n",
    "df['Price'] = np.where(df['Price'].isnull(), df['Price'].shift(1), df['Price'])\n",
    "df['Open'] = np.where(df['Open'].isnull(), df['Open'].shift(1), df['Open'])\n",
    "df['High'] = np.where(df['High'].isnull(), df['High'].shift(1), df['High'])\n",
    "df['Low'] = np.where(df['Low'].isnull(), df['Low'].shift(1), df['Low'])\n",
    "df['Change %'] = np.where(df['Change %'].isnull(), df['Change %'].shift(1), df['Change %'])"
   ]
  },
  {
   "cell_type": "markdown",
   "metadata": {},
   "source": [
    "# 3) – Test your changes by performing some simple checks\n",
    "-\tUse dtypes to view the data type of each column\n",
    "-\tFilter each column of isnull() and ensure nothing is returned\n"
   ]
  },
  {
   "cell_type": "code",
   "execution_count": null,
   "metadata": {
    "scrolled": true
   },
   "outputs": [],
   "source": [
    "# Check the data types\n",
    "df.dtypes"
   ]
  },
  {
   "cell_type": "code",
   "execution_count": null,
   "metadata": {},
   "outputs": [],
   "source": [
    "# Check for Nulls\n",
    "df['Price'][df['Price'].isnull()]\n",
    "df['Open'][df['Open'].isnull()]\n",
    "df['High'][df['High'].isnull()]\n",
    "df['Low'][df['Low'].isnull()]\n",
    "df['Change %'][df['Change %'].isnull()]"
   ]
  },
  {
   "cell_type": "code",
   "execution_count": null,
   "metadata": {},
   "outputs": [],
   "source": []
  },
  {
   "cell_type": "code",
   "execution_count": null,
   "metadata": {},
   "outputs": [],
   "source": []
  },
  {
   "cell_type": "code",
   "execution_count": null,
   "metadata": {},
   "outputs": [],
   "source": []
  }
 ],
 "metadata": {
  "kernelspec": {
   "display_name": "Python 3 (ipykernel)",
   "language": "python",
   "name": "python3"
  },
  "language_info": {
   "codemirror_mode": {
    "name": "ipython",
    "version": 3
   },
   "file_extension": ".py",
   "mimetype": "text/x-python",
   "name": "python",
   "nbconvert_exporter": "python",
   "pygments_lexer": "ipython3",
   "version": "3.10.10"
  }
 },
 "nbformat": 4,
 "nbformat_minor": 4
}
