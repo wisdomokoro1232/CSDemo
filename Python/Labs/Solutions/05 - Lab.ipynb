{
 "cells": [
  {
   "cell_type": "markdown",
   "metadata": {},
   "source": [
    "# 1 – Import the libraries you need to work with DataFrames\n"
   ]
  },
  {
   "cell_type": "code",
   "execution_count": null,
   "metadata": {},
   "outputs": [],
   "source": [
    "import warnings\n",
    "warnings.filterwarnings(\"ignore\", category=DeprecationWarning) \n",
    "warnings.filterwarnings(\"ignore\", category=FutureWarning) \n",
    "\n",
    "import pandas as pd\n",
    "import numpy as np\n",
    "import matplotlib.pyplot as ply"
   ]
  },
  {
   "cell_type": "markdown",
   "metadata": {},
   "source": [
    "# 2 ) – Joining 3 DataSets\n",
    "\n",
    "- Using a the data in the files ADJ_OHLC.csv, DivSplits.csv and AdjVols.csv\n",
    "- Create a new data frame which is a join across all 3 files on the ‘Date’ column.\n",
    "- Pick the correct join method that gives a fully populated DataFrame\n",
    "- How many rows are in the new DataFrame"
   ]
  },
  {
   "cell_type": "code",
   "execution_count": null,
   "metadata": {
    "scrolled": true
   },
   "outputs": [],
   "source": [
    "df_OHLC = pd.read_csv('../Data/ADJ_OHLC.csv', index_col='Date', parse_dates = True, dayfirst=True)\n",
    "df_DivSplits = pd.read_csv('../Data/DivSplits.csv', index_col='Date', parse_dates = True, dayfirst=True)\n",
    "df_Vols = pd.read_csv('../Data/AdjVols.csv', index_col='Date', parse_dates = True, dayfirst=True)\n",
    "\n",
    "df = pd.DataFrame()\n",
    "\n",
    "df = df_OHLC\n",
    "df = df.join(df_DivSplits, how='inner')\n",
    "df = df.join(df_Vols, how='inner')\n",
    "\n",
    "df.describe()"
   ]
  },
  {
   "cell_type": "markdown",
   "metadata": {},
   "source": [
    "# 3) – Group by time\n",
    "\n",
    "- Add a new column, ‘DayRange’ which is the difference between the Adjusted High and Adjusted Low.- \n",
    "- Display then mean Adjusted Close and Day Range grouped by calender month\n"
   ]
  },
  {
   "cell_type": "code",
   "execution_count": null,
   "metadata": {},
   "outputs": [],
   "source": [
    "df['DayRange'] = df['AdjHigh'] - df['AdjLow']\n",
    "\n",
    "cols = ['AdjClose', 'DayRange']\n",
    "\n",
    "df[cols].groupby(pd.Grouper(freq='M')).agg('mean')"
   ]
  },
  {
   "cell_type": "code",
   "execution_count": null,
   "metadata": {},
   "outputs": [],
   "source": []
  },
  {
   "cell_type": "code",
   "execution_count": null,
   "metadata": {},
   "outputs": [],
   "source": []
  },
  {
   "cell_type": "code",
   "execution_count": null,
   "metadata": {},
   "outputs": [],
   "source": []
  },
  {
   "cell_type": "code",
   "execution_count": null,
   "metadata": {},
   "outputs": [],
   "source": []
  },
  {
   "cell_type": "code",
   "execution_count": null,
   "metadata": {},
   "outputs": [],
   "source": []
  }
 ],
 "metadata": {
  "kernelspec": {
   "display_name": "Python 3 (ipykernel)",
   "language": "python",
   "name": "python3"
  },
  "language_info": {
   "codemirror_mode": {
    "name": "ipython",
    "version": 3
   },
   "file_extension": ".py",
   "mimetype": "text/x-python",
   "name": "python",
   "nbconvert_exporter": "python",
   "pygments_lexer": "ipython3",
   "version": "3.10.10"
  }
 },
 "nbformat": 4,
 "nbformat_minor": 4
}
