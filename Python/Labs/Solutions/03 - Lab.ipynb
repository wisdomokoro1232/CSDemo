{
 "cells": [
  {
   "cell_type": "markdown",
   "metadata": {},
   "source": [
    "# 1 – Import the libraries you will to work with DataFrames"
   ]
  },
  {
   "cell_type": "code",
   "execution_count": null,
   "metadata": {},
   "outputs": [],
   "source": [
    "import warnings\n",
    "warnings.filterwarnings(\"ignore\", category=DeprecationWarning) \n",
    "warnings.filterwarnings(\"ignore\", category=FutureWarning) \n",
    "\n",
    "import pandas as pd"
   ]
  },
  {
   "cell_type": "markdown",
   "metadata": {},
   "source": [
    "# 2) - Date Formatting\n",
    "\n",
    "**Import the library you need for working with dates**\n",
    "\n",
    "**Create a date for 18-Nov-2018**\n",
    "-\tFormat and display the date as \n",
    "-\tSunday 18 November 2018\n",
    "-\tSun 18 Nov 18\n",
    "-\t2018/11/18\n",
    "-\t18-11-2018\n",
    "\n",
    "**Create a date for 17-Mar-2018**\n",
    "-\tDisplay the day of the year for this date\n",
    "-\tDisplay the week of the for the date"
   ]
  },
  {
   "cell_type": "code",
   "execution_count": null,
   "metadata": {},
   "outputs": [],
   "source": [
    "import datetime as dt\n",
    "\n",
    "stamp = dt.datetime(2018,11,18)\n",
    "\n",
    "print(stamp.strftime('%A %d %B %Y'))\n",
    "\n",
    "print(stamp.strftime('%a %d %b %y'))\n",
    "\n",
    "print(stamp.strftime('%Y/%m/%d'))\n",
    "\n",
    "print(stamp.strftime('%d-%m-%Y'))\n",
    "\n",
    "st_patricks_day = dt.datetime(2017,3,17)\n",
    "\n",
    "print(st_patricks_day.strftime('%-j'))\n",
    "\n",
    "print(st_patricks_day.strftime('%W'))"
   ]
  },
  {
   "cell_type": "markdown",
   "metadata": {},
   "source": [
    "# 3) – Load in the data for GOOGL\n",
    "-\tUse GOOGL.csv\n",
    "-\tIndex on ‘Date’ column"
   ]
  },
  {
   "cell_type": "code",
   "execution_count": null,
   "metadata": {},
   "outputs": [],
   "source": [
    "df_GOOGL = pd.read_csv('../Data/GOOGL.csv', index_col='Date', parse_dates=True)"
   ]
  },
  {
   "cell_type": "markdown",
   "metadata": {},
   "source": [
    "# 4) – What was the maximum value for Volume in the years 2014 through to 2016"
   ]
  },
  {
   "cell_type": "code",
   "execution_count": null,
   "metadata": {},
   "outputs": [],
   "source": [
    "df_GOOGL['2014':'2016']['Volume'].max()"
   ]
  },
  {
   "cell_type": "markdown",
   "metadata": {},
   "source": [
    "# 5) – Display the mean of columns Open, High, Low and Close for every business quarter for the entire data set for GOOGL"
   ]
  },
  {
   "cell_type": "code",
   "execution_count": null,
   "metadata": {},
   "outputs": [],
   "source": [
    "cols = ['Open', 'High', 'Low', 'Close']\n",
    "\n",
    "df_GOOGL[cols].resample(rule='BQ').mean()\n",
    "\n",
    "# Or\n",
    "\n",
    "df_GOOGL[cols].resample(rule='BQ').agg('mean')"
   ]
  },
  {
   "cell_type": "markdown",
   "metadata": {},
   "source": [
    "# 6 – Display the mean, max, min and median of columns Open, High, Low and Close for every calendar year for the entire data set for GOOGL.\n"
   ]
  },
  {
   "cell_type": "code",
   "execution_count": null,
   "metadata": {},
   "outputs": [],
   "source": [
    "cols = ['Open', 'High', 'Low', 'Close']\n",
    "funcs = ['mean', 'max', 'min', 'median']\n",
    "\n",
    "df_GOOGL[cols].resample(rule='Y').agg(funcs)"
   ]
  },
  {
   "cell_type": "markdown",
   "metadata": {},
   "source": [
    "# 7 – Transpose the previous set of results"
   ]
  },
  {
   "cell_type": "code",
   "execution_count": null,
   "metadata": {},
   "outputs": [],
   "source": [
    "cols = ['Open', 'High', 'Low', 'Close']\n",
    "funcs = ['mean', 'max', 'min', 'median']\n",
    "\n",
    "df_GOOGL[cols].resample(rule='Y').agg(funcs).transpose()"
   ]
  },
  {
   "cell_type": "code",
   "execution_count": null,
   "metadata": {},
   "outputs": [],
   "source": []
  },
  {
   "cell_type": "code",
   "execution_count": null,
   "metadata": {},
   "outputs": [],
   "source": []
  },
  {
   "cell_type": "code",
   "execution_count": null,
   "metadata": {},
   "outputs": [],
   "source": []
  }
 ],
 "metadata": {
  "kernelspec": {
   "display_name": "Python 3 (ipykernel)",
   "language": "python",
   "name": "python3"
  },
  "language_info": {
   "codemirror_mode": {
    "name": "ipython",
    "version": 3
   },
   "file_extension": ".py",
   "mimetype": "text/x-python",
   "name": "python",
   "nbconvert_exporter": "python",
   "pygments_lexer": "ipython3",
   "version": "3.10.10"
  }
 },
 "nbformat": 4,
 "nbformat_minor": 4
}
