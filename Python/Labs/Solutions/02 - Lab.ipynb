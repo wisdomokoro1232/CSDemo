{
 "cells": [
  {
   "cell_type": "markdown",
   "metadata": {},
   "source": [
    "# 1) Import the libraries you will to work with DataFrames"
   ]
  },
  {
   "cell_type": "code",
   "execution_count": null,
   "metadata": {},
   "outputs": [],
   "source": [
    "import warnings\n",
    "warnings.filterwarnings(\"ignore\", category=DeprecationWarning) \n",
    "warnings.filterwarnings(\"ignore\", category=FutureWarning) \n",
    "\n",
    "import pandas as pd"
   ]
  },
  {
   "cell_type": "markdown",
   "metadata": {},
   "source": [
    "# 2) Load in the data for IBM"
   ]
  },
  {
   "cell_type": "code",
   "execution_count": null,
   "metadata": {},
   "outputs": [],
   "source": [
    "df_IBM = pd.read_csv('../Data/IBM.csv', index_col='Date', parse_dates = True).sort_index()"
   ]
  },
  {
   "cell_type": "markdown",
   "metadata": {},
   "source": [
    "# 3) Describe the data for IBM for the year 2017"
   ]
  },
  {
   "cell_type": "code",
   "execution_count": null,
   "metadata": {},
   "outputs": [],
   "source": [
    "df_IBM.loc['2017'].describe()"
   ]
  },
  {
   "cell_type": "markdown",
   "metadata": {},
   "source": [
    "# 4) - Create a new DataFrame\n",
    "\n",
    "- populate it with the Open, High, Low and Close prices for IBM"
   ]
  },
  {
   "cell_type": "code",
   "execution_count": null,
   "metadata": {},
   "outputs": [],
   "source": [
    "df = pd.DataFrame()\n",
    "\n",
    "cols = ['Open', 'High', 'Low', 'Close']\n",
    "\n",
    "df = df_IBM[cols].copy()"
   ]
  },
  {
   "cell_type": "markdown",
   "metadata": {},
   "source": [
    "# 5) – Add a new column called “Day Range’ \n",
    "-\t the difference between the High and Low prices."
   ]
  },
  {
   "cell_type": "code",
   "execution_count": null,
   "metadata": {},
   "outputs": [],
   "source": [
    "df['Day Range'] = df['High'] - df['Low']"
   ]
  },
  {
   "cell_type": "markdown",
   "metadata": {},
   "source": [
    "# 6) – Describe the “Day Range’"
   ]
  },
  {
   "cell_type": "code",
   "execution_count": null,
   "metadata": {},
   "outputs": [],
   "source": [
    "df['Day Range'].describe()"
   ]
  },
  {
   "cell_type": "markdown",
   "metadata": {},
   "source": [
    "# 7) – What day had the largest Day Range"
   ]
  },
  {
   "cell_type": "code",
   "execution_count": null,
   "metadata": {},
   "outputs": [],
   "source": [
    "# The row with the largest Day Range is \n",
    "largest = df['Day Range'].max()\n",
    "\n",
    "# The position of this row is\n",
    "df['Day Range'].idxmax()\n",
    "\n",
    "# Store the index of this row \n",
    "dt = df['Day Range'].idxmax()\n",
    "\n",
    "# Convert to a pandas datetime\n",
    "t = pd.to_datetime(str(dt)) \n",
    "\n",
    "# Display\n",
    "timestring = t.strftime('%Y/%m/%d')\n",
    "\n",
    "print(f\"Day with largest day range is {timestring} with a value of {largest:5.2f}\")"
   ]
  },
  {
   "cell_type": "markdown",
   "metadata": {},
   "source": [
    "# 8) What day had the smallest Day Range"
   ]
  },
  {
   "cell_type": "code",
   "execution_count": null,
   "metadata": {},
   "outputs": [],
   "source": [
    "# The row with the smallest Day Range is \n",
    "smallest = df['Day Range'].min()\n",
    "\n",
    "# The position of this row is\n",
    "df['Day Range'].idxmin()\n",
    "\n",
    "# Store the index of this row \n",
    "dt = df['Day Range'].idxmin()\n",
    "\n",
    "# Convert to a pandas datetime\n",
    "t = pd.to_datetime(str(dt)) \n",
    "\n",
    "# Display\n",
    "timestring = t.strftime('%Y/%m/%d')\n",
    "\n",
    "print(f\"Day with smallest day range is {timestring} with a value of {smallest:5.2f}\")"
   ]
  },
  {
   "cell_type": "code",
   "execution_count": null,
   "metadata": {},
   "outputs": [],
   "source": [
    "df['Day Range'].min()"
   ]
  },
  {
   "cell_type": "code",
   "execution_count": null,
   "metadata": {},
   "outputs": [],
   "source": []
  },
  {
   "cell_type": "code",
   "execution_count": null,
   "metadata": {},
   "outputs": [],
   "source": []
  }
 ],
 "metadata": {
  "kernelspec": {
   "display_name": "Python 3 (ipykernel)",
   "language": "python",
   "name": "python3"
  },
  "language_info": {
   "codemirror_mode": {
    "name": "ipython",
    "version": 3
   },
   "file_extension": ".py",
   "mimetype": "text/x-python",
   "name": "python",
   "nbconvert_exporter": "python",
   "pygments_lexer": "ipython3",
   "version": "3.10.10"
  }
 },
 "nbformat": 4,
 "nbformat_minor": 4
}
