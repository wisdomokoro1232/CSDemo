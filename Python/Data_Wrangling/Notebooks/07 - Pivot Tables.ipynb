{
 "cells": [
  {
   "cell_type": "markdown",
   "metadata": {},
   "source": [
    "# Pivots"
   ]
  },
  {
   "cell_type": "markdown",
   "metadata": {},
   "source": [
    "## Introduction\n",
    "\n",
    "Most people likely have experience with pivot tables in Excel. Pandas provides a similar function called (appropriately enough) pivot_table . While it is exceedingly useful, I frequently find myself struggling to remember how to use the syntax to format the output for my needs. This notebook will focus on explaining the pandas `pivot_table` function and how to use it for your data analysis.\n",
    "\n"
   ]
  },
  {
   "cell_type": "markdown",
   "metadata": {},
   "source": [
    "## The Data\n",
    "\n",
    "One of the challenges with using the panda’s pivot_table is making sure you understand your data and what questions you are trying to answer with the pivot table. It is a seemingly simple function but can produce very powerful analysis very quickly.\n",
    "\n",
    "THis example is going to track a sales pipeline (also called funnel). The basic problem is that some sales cycles are very long (think “enterprise software”, capital equipment, etc.) and users might want to understand it in more detail throughout the year.\n",
    "\n",
    "Typical questions include:\n",
    "\n",
    "> \n",
    "> How much revenue is in the pipeline? <BR>\n",
    "> What products are in the pipeline?<BR>\n",
    "> Who has what products at what stage?<BR>\n",
    "> How likely are we to close deals by year end?<BR>\n",
    ">\n",
    "Many companies will have CRM tools or other software that sales uses to track the process. While they may have useful tools for analyzing the data, inevitably someone will export the data to Excel and use a PivotTable to summarize the data.\n",
    "\n",
    "Using a panda’s pivot table can be a good alternative because it is:\n",
    "\n",
    "- Quicker (once it is set up)\n",
    "- Self documenting (look at the code and you know what it does)\n",
    "- Easy to use to generate a report or email\n",
    "- More flexible because you can define custome aggregation functions\n",
    "\n"
   ]
  },
  {
   "cell_type": "markdown",
   "metadata": {},
   "source": [
    "## Read in the Data"
   ]
  },
  {
   "cell_type": "code",
   "execution_count": null,
   "metadata": {},
   "outputs": [],
   "source": [
    "import warnings\n",
    "warnings.filterwarnings(\"ignore\", category=DeprecationWarning) \n",
    "warnings.filterwarnings(\"ignore\", category=FutureWarning) \n",
    "\n",
    "import pandas as pd\n",
    "import numpy as np"
   ]
  },
  {
   "cell_type": "code",
   "execution_count": null,
   "metadata": {},
   "outputs": [],
   "source": [
    "df = pd.read_csv(filepath_or_buffer=\"../Data/sales.csv\")\n",
    "display(df.head())\n",
    "df.dtypes"
   ]
  },
  {
   "cell_type": "markdown",
   "metadata": {},
   "source": [
    "## Define a Category\n",
    "\n",
    "For convenience only, define the `status` column as a category and set the order we want to view.\n",
    "\n",
    "Not strictly required but helps to keep the order we want as we work through analyzing the data.\n",
    "\n",
    "Note the change in type for the `Status` column. It was an object and is now a category."
   ]
  },
  {
   "cell_type": "code",
   "execution_count": null,
   "metadata": {},
   "outputs": [],
   "source": [
    "df[\"Status\"] = df[\"Status\"].astype(\"category\")\n",
    "df[\"Status\"] = df[\"Status\"].cat.set_categories([\"won\",\"pending\",\"presented\",\"declined\"])\n",
    "\n",
    "display(df.head())\n",
    "df.dtypes"
   ]
  },
  {
   "cell_type": "markdown",
   "metadata": {},
   "source": [
    "## Pivot the data - single Index\n",
    "\n",
    "Generally best to pivot one step at a time. Add items and check each step to verify you are getting the results expected. Don’t be afraid to play with the order and the variables to see what presentation makes the most sense for your needs.\n",
    "\n",
    "The simplest pivot table **must** have a dataframe and an index . In this case, use the `Name` column as the index.\n",
    "\n",
    "**Note** the only columns in the pivto table are the numeric ones"
   ]
  },
  {
   "cell_type": "code",
   "execution_count": null,
   "metadata": {},
   "outputs": [],
   "source": [
    "vals = ['Price','Quantity']\n",
    "ndx = 'Rep'\n",
    "\n",
    "pd.pivot_table(df,index=ndx, values=vals)"
   ]
  },
  {
   "cell_type": "code",
   "execution_count": null,
   "metadata": {},
   "outputs": [],
   "source": [
    "vals = ['Price','Quantity']\n",
    "ndx = 'Manager'\n",
    "\n",
    "pd.pivot_table(df,index=ndx, values=vals)"
   ]
  },
  {
   "cell_type": "markdown",
   "metadata": {},
   "source": [
    "## Pivot the data - Multiple Indices\n",
    "\n",
    "You can have multiple indexes as well. In fact, most of the pivot_table args can take multiple values via a list."
   ]
  },
  {
   "cell_type": "code",
   "execution_count": null,
   "metadata": {},
   "outputs": [],
   "source": [
    "vals = ['Price','Quantity']\n",
    "ndx = ['Manager','Rep','Name']\n",
    "\n",
    "pd.pivot_table(df,index=ndx, values=vals)"
   ]
  },
  {
   "cell_type": "markdown",
   "metadata": {},
   "source": [
    "Look at this by Manager and Rep. It’s easy enough to do by changing the index ."
   ]
  },
  {
   "cell_type": "code",
   "execution_count": null,
   "metadata": {},
   "outputs": [],
   "source": [
    "vals = ['Price','Quantity']\n",
    "ndx = ['Manager','Rep']\n",
    "\n",
    "pd.pivot_table(df,index=ndx, values=vals)"
   ]
  },
  {
   "cell_type": "markdown",
   "metadata": {},
   "source": [
    "## Aggrating and Summarizing Data\n",
    "\n",
    "The pivot table is smart enough to start aggregating the data and summarizing it by grouping the reps with their managers. \n",
    "\n",
    "For this purpose, the `Account` and `Quantity` columns aren’t really useful. Let’s remove it by explicitly defining the columns we care about using the values field."
   ]
  },
  {
   "cell_type": "code",
   "execution_count": null,
   "metadata": {},
   "outputs": [],
   "source": [
    "vals = ['Price']\n",
    "ndx = ['Manager','Rep']\n",
    "\n",
    "pd.pivot_table(df,index=ndx,values=vals)"
   ]
  },
  {
   "cell_type": "markdown",
   "metadata": {},
   "source": [
    "The price column automatically averages the data (calcultes the mean) but we can do a `count` or a `sum`. Adding them is simple using aggfunc and np.sum .\n"
   ]
  },
  {
   "cell_type": "code",
   "execution_count": null,
   "metadata": {},
   "outputs": [],
   "source": [
    "vals = ['Price']\n",
    "ndx = ['Manager','Rep']\n",
    "\n",
    "pd.pivot_table(df,index=ndx,values=vals,aggfunc=np.sum)"
   ]
  },
  {
   "cell_type": "markdown",
   "metadata": {},
   "source": [
    "The `aggfunc` parameter can take a list of functions. E.g. using the numpy `mean` function and `len` to get a count."
   ]
  },
  {
   "cell_type": "code",
   "execution_count": null,
   "metadata": {},
   "outputs": [],
   "source": [
    "vals = ['Price']\n",
    "ndx = ['Manager','Rep']\n",
    "funcs = [np.mean,len]\n",
    "\n",
    "pd.pivot_table(df,index=ndx,values=vals,aggfunc=funcs)"
   ]
  },
  {
   "cell_type": "markdown",
   "metadata": {},
   "source": [
    "The `aggfunc` parameter can take a list of names of functions. <BR>\n",
    "E.g. using the numpy functions np.sum, np.mean and np.std"
   ]
  },
  {
   "cell_type": "code",
   "execution_count": null,
   "metadata": {},
   "outputs": [],
   "source": [
    "vals = ['Price']\n",
    "ndx = ['Manager','Rep']\n",
    "funcs = [np.sum, np.mean, np.std]\n",
    "\n",
    "pd.pivot_table(df,index=ndx,values=vals,aggfunc=funcs)"
   ]
  },
  {
   "cell_type": "markdown",
   "metadata": {},
   "source": [
    "If we want to see sales broken down by the products, the `columns` paramneter allows you to define one or more columns.\n",
    "\n",
    "## Columns vs. Values\n",
    "One of the confusing points with the pivot_table is the use of columns and values .  \n",
    "Remember, columns are optional - they provide an additional way to segment the actual values you care about.  \n",
    "The aggregation functions are applied to the **values** you list."
   ]
  },
  {
   "cell_type": "code",
   "execution_count": null,
   "metadata": {},
   "outputs": [],
   "source": [
    "vals = ['Price']\n",
    "ndx = ['Manager','Rep']\n",
    "cols = ['Product']\n",
    "\n",
    "pd.pivot_table(df,index=ndx,values=vals, columns=cols,aggfunc=[np.sum])"
   ]
  },
  {
   "cell_type": "markdown",
   "metadata": {},
   "source": [
    "Remove the Nans bu using the `fill_value` to set them to 0."
   ]
  },
  {
   "cell_type": "code",
   "execution_count": null,
   "metadata": {},
   "outputs": [],
   "source": [
    "vals = ['Price']\n",
    "ndx = ['Manager','Rep']\n",
    "cols = ['Product']\n",
    "\n",
    "pd.pivot_table(df,index=ndx, values=vals, columns=cols, aggfunc=[np.sum], fill_value=0)"
   ]
  },
  {
   "cell_type": "markdown",
   "metadata": {},
   "source": [
    "Add Quantity to the values list."
   ]
  },
  {
   "cell_type": "code",
   "execution_count": null,
   "metadata": {},
   "outputs": [],
   "source": [
    "vals = [\"Price\",\"Quantity\"]\n",
    "ndx = ['Manager','Rep']\n",
    "cols = ['Product']\n",
    "\n",
    "pd.pivot_table(df,index=ndx, values=[\"Price\",\"Quantity\"], columns=[\"Product\"], aggfunc=[np.sum], fill_value=0)"
   ]
  },
  {
   "cell_type": "markdown",
   "metadata": {},
   "source": [
    "## Move items to the index \n",
    "\n",
    "This gives a different visual representation. \n",
    "\n",
    "Remove Product from the columns and add to the index ."
   ]
  },
  {
   "cell_type": "code",
   "execution_count": null,
   "metadata": {},
   "outputs": [],
   "source": [
    "vals = [\"Price\",\"Quantity\"]\n",
    "ndx = [\"Manager\",\"Rep\",\"Product\"]\n",
    "cols = ['Product']\n",
    "\n",
    "pd.pivot_table(df,index=ndx, values=vals, aggfunc=[np.sum], fill_value=0)"
   ]
  },
  {
   "cell_type": "markdown",
   "metadata": {},
   "source": [
    "## Add some totals\n",
    "\n",
    "Set the `margins` parameter to **True** .\n",
    "\n",
    "The totals are in the last column `All`"
   ]
  },
  {
   "cell_type": "code",
   "execution_count": null,
   "metadata": {},
   "outputs": [],
   "source": [
    "vals = [\"Price\",\"Quantity\"]\n",
    "ndx = [\"Manager\",\"Rep\",\"Product\"]\n",
    "funcs = [np.sum,np.mean]\n",
    "\n",
    "pd.pivot_table(df,index=ndx, values=vals, aggfunc=funcs, fill_value=0, margins=True)"
   ]
  },
  {
   "cell_type": "markdown",
   "metadata": {},
   "source": [
    "## Different Functions for Different Values\n",
    "\n",
    "If you wenat to have different aggregate functions to different values, use a dictionary\n",
    "\n",
    "For example\n",
    "> **len** for the `Quuantity` value <BR>\n",
    "> **np.sum** for the `Price` column <BR>"
   ]
  },
  {
   "cell_type": "code",
   "execution_count": null,
   "metadata": {},
   "outputs": [],
   "source": [
    "vals = [\"Price\",\"Quantity\"]\n",
    "ndx = [\"Manager\",\"Status\"]\n",
    "cols=[\"Product\"]\n",
    "\n",
    "funcs = {\n",
    "    \"Quantity\":len,\n",
    "    \"Price\":np.sum\n",
    "}\n",
    "\n",
    "pd.pivot_table(df, index=ndx, columns=cols, values=vals, aggfunc=funcs, fill_value=0)\n"
   ]
  },
  {
   "cell_type": "markdown",
   "metadata": {},
   "source": [
    "It is also possible to provide a list of aggfunctions to apply to each value too:\n",
    "\n",
    "For example <BR>\n",
    "> **len** for `Quantity` values  <BR>\n",
    "> **np.sum** and **np.mean** for the `Price` value  <BR>\n",
    "\n"
   ]
  },
  {
   "cell_type": "code",
   "execution_count": null,
   "metadata": {},
   "outputs": [],
   "source": [
    "vals = [\"Price\",\"Quantity\"]\n",
    "ndx = [\"Manager\",\"Status\"]\n",
    "cols=[\"Product\"]\n",
    "\n",
    "\n",
    "funcs = {\n",
    "    \"Quantity\":len,\n",
    "    \"Price\":[np.sum,np.mean]\n",
    "}\n",
    "\n",
    "table = pd.pivot_table(df,index=ndx, columns=cols, values=vals, aggfunc=funcs, fill_value=0)\n",
    "table"
   ]
  },
  {
   "cell_type": "markdown",
   "metadata": {},
   "source": [
    "## Advanced Pivot Table Filtering\n",
    "\n",
    "Once you have generated your data, it is in a DataFrame so you can filter on it using your standard DataFrame functions.\n",
    "\n",
    "This uses ther `query` method on a DataFrame\n",
    "\n",
    "For example - filter for the manager equal to Debra Hanley"
   ]
  },
  {
   "cell_type": "code",
   "execution_count": null,
   "metadata": {},
   "outputs": [],
   "source": [
    "is_mgr_Deb_Han = 'Manager == [\"Debra Henley\"]'\n",
    "\n",
    "table.query(is_mgr_Deb_Han)"
   ]
  },
  {
   "cell_type": "markdown",
   "metadata": {},
   "source": [
    "All of our pending and won deals."
   ]
  },
  {
   "cell_type": "code",
   "execution_count": null,
   "metadata": {},
   "outputs": [],
   "source": [
    "pending_or_won = 'Status == [\"pending\",\"won\"]'\n",
    "\n",
    "table.query(pending_or_won)"
   ]
  },
  {
   "cell_type": "markdown",
   "metadata": {},
   "source": [
    "## Add some colour"
   ]
  },
  {
   "cell_type": "markdown",
   "metadata": {},
   "source": [
    "### High Low colours"
   ]
  },
  {
   "cell_type": "code",
   "execution_count": null,
   "metadata": {},
   "outputs": [],
   "source": [
    "vals = [\"Price\",\"Quantity\"]\n",
    "ndx = [\"Manager\",\"Status\"]\n",
    "cols=[\"Product\"]\n",
    "\n",
    "\n",
    "funcs = {\n",
    "    \"Quantity\":len,\n",
    "    \"Price\":[np.sum,np.mean]\n",
    "}\n",
    "\n",
    "table = pd.pivot_table(df, index=ndx, columns=cols, values=vals, aggfunc=funcs, fill_value=0)\n",
    "\n",
    "table.style.highlight_max(color='lightgreen').highlight_min(color='red')"
   ]
  },
  {
   "cell_type": "markdown",
   "metadata": {},
   "source": [
    "### Gradient Colours"
   ]
  },
  {
   "cell_type": "code",
   "execution_count": null,
   "metadata": {},
   "outputs": [],
   "source": [
    "table.style.background_gradient(cmap='Blues')"
   ]
  },
  {
   "cell_type": "markdown",
   "metadata": {},
   "source": [
    "### Gradient Colours\n",
    "\n",
    "Similar to `numpy.where`\n",
    "\n",
    "Used to highlight based on a condition\n"
   ]
  },
  {
   "cell_type": "code",
   "execution_count": null,
   "metadata": {},
   "outputs": [],
   "source": [
    "def style_func(v, value, other):\n",
    "    cond = v > 65000 \n",
    "    return value if cond else other\n",
    "\n",
    "table.style.applymap(style_func, value='color:green;', other='color:red;')\n"
   ]
  },
  {
   "cell_type": "markdown",
   "metadata": {
    "tags": []
   },
   "source": [
    "# Cheat - Sheet\n",
    "\n",
    "<img style=\"float: center;\" width=\"720\" src=\"../Images/pivot-table.png\">"
   ]
  },
  {
   "cell_type": "code",
   "execution_count": null,
   "metadata": {},
   "outputs": [],
   "source": []
  },
  {
   "cell_type": "code",
   "execution_count": null,
   "metadata": {},
   "outputs": [],
   "source": []
  },
  {
   "cell_type": "code",
   "execution_count": null,
   "metadata": {},
   "outputs": [],
   "source": []
  },
  {
   "cell_type": "code",
   "execution_count": null,
   "metadata": {},
   "outputs": [],
   "source": []
  },
  {
   "cell_type": "code",
   "execution_count": null,
   "metadata": {},
   "outputs": [],
   "source": []
  },
  {
   "cell_type": "code",
   "execution_count": null,
   "metadata": {},
   "outputs": [],
   "source": []
  },
  {
   "cell_type": "code",
   "execution_count": null,
   "metadata": {},
   "outputs": [],
   "source": []
  }
 ],
 "metadata": {
  "kernelspec": {
   "display_name": "Python 3 (ipykernel)",
   "language": "python",
   "name": "python3"
  },
  "language_info": {
   "codemirror_mode": {
    "name": "ipython",
    "version": 3
   },
   "file_extension": ".py",
   "mimetype": "text/x-python",
   "name": "python",
   "nbconvert_exporter": "python",
   "pygments_lexer": "ipython3",
   "version": "3.10.10"
  }
 },
 "nbformat": 4,
 "nbformat_minor": 4
}
