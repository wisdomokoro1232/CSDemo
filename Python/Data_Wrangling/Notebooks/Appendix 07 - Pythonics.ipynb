{
 "cells": [
  {
   "cell_type": "markdown",
   "metadata": {},
   "source": [
    "# args and kwargs\n"
   ]
  },
  {
   "cell_type": "markdown",
   "metadata": {},
   "source": [
    "## args\n",
    "\n",
    "used to send a `non-keyworded` `variable length` argument list to the function\n"
   ]
  },
  {
   "cell_type": "code",
   "execution_count": null,
   "metadata": {},
   "outputs": [],
   "source": [
    "def test_var_args(f_arg, *argv):\n",
    "    print(\"first normal arg:\", f_arg)\n",
    "    for arg in argv:\n",
    "        print(\"another arg through *argv:\", arg)\n",
    "        \n",
    "test_var_args('Dylan', 'green', 10 + 23, 3 < 2, ['green', 'eggs', 'and', 'ham'])\n"
   ]
  },
  {
   "cell_type": "markdown",
   "metadata": {},
   "source": [
    "## kwargs\n",
    "\n",
    "used to pass `keyworded` `variable length` of arguments to a function. \n",
    "\n",
    "use when you want to handle named arguments in a function. \n"
   ]
  },
  {
   "cell_type": "code",
   "execution_count": null,
   "metadata": {},
   "outputs": [],
   "source": [
    "def greet_me(**kwargs):\n",
    "    for key, value in kwargs.items():\n",
    "        print(key, \":\", value)\n",
    "        \n",
    "greet_me(vocals=\"Bono\", guitar='The Edge', drums='Larry', bass='Adam')\n"
   ]
  },
  {
   "cell_type": "markdown",
   "metadata": {},
   "source": [
    "## args vs kwargs"
   ]
  },
  {
   "cell_type": "code",
   "execution_count": null,
   "metadata": {},
   "outputs": [],
   "source": [
    "def test_args_kwargs(arg1, arg2, arg3):\n",
    "    print(\"arg1:\", arg1)\n",
    "    print(\"arg2:\", arg2)\n",
    "    print(\"arg3:\", arg3)\n",
    "\n",
    "# Call using args\n",
    "args = (5, \"two\", 3)\n",
    "test_args_kwargs(*args)"
   ]
  },
  {
   "cell_type": "code",
   "execution_count": null,
   "metadata": {},
   "outputs": [],
   "source": [
    "# Call using kwargs & {}\n",
    "kwargs = {\"arg3\": 3, \"arg2\": \"two\", \"arg1\": 5}\n",
    "test_args_kwargs(**kwargs)\n"
   ]
  },
  {
   "cell_type": "code",
   "execution_count": null,
   "metadata": {},
   "outputs": [],
   "source": [
    "# Call using kwargs & dict constructor\n",
    "kwargs = dict(arg3=3, arg2=\"two\", arg1=5)\n",
    "test_args_kwargs(**kwargs)"
   ]
  },
  {
   "cell_type": "markdown",
   "metadata": {},
   "source": [
    "# assert\n",
    "\n",
    "- Assert is a debugging tool that tests a condition. \n",
    "- If the assert condition is true, nothing happens, program continues to execute as normal. \n",
    "- If the condition evaluates to false, an `AssertionError` exception is raised with an optional error message\n"
   ]
  },
  {
   "cell_type": "code",
   "execution_count": null,
   "metadata": {},
   "outputs": [],
   "source": [
    "def apply_discount(product, discount):\n",
    "    price = int(product['price'] * (1.0 - discount))\n",
    "    \n",
    "    # Ensure that discount <= 1.0\n",
    "    assert 0 <= price <= product['price']\n",
    "    \n",
    "    return price\n",
    "\n",
    "security = {'Symbol': 'IBM', 'price': 14900}\n",
    "\n",
    "# Both these work\n",
    "apply_discount(security, 0.25)\n",
    "apply_discount(security, 1.00)\n",
    "\n",
    "# Both these do not work\n",
    "#apply_discount(security, -0.25)\n",
    "#apply_discount(security, 1.5)\n"
   ]
  },
  {
   "cell_type": "markdown",
   "metadata": {},
   "source": [
    "- Assertions are self checks for a program\n",
    "- Intended for unrecoverable errors\n",
    "- Don’t Use Asserts for Data Validation\n",
    "- Assertions can be globally disabled with –O, -OO or PYTHONOPTIMIZE command line switches\n"
   ]
  },
  {
   "cell_type": "markdown",
   "metadata": {},
   "source": [
    "# Context Managers\n",
    "\n",
    "- Used to help programmers write exception safe code\n",
    "- Code that cleans up resources in the event of exceptions being propagated through it"
   ]
  },
  {
   "cell_type": "code",
   "execution_count": null,
   "metadata": {},
   "outputs": [],
   "source": [
    "f = open('../Data/hello.txt', 'w')\n",
    "\n",
    "f.write('hello, world')\n",
    "\n",
    "f.close()\n"
   ]
  },
  {
   "cell_type": "markdown",
   "metadata": {},
   "source": [
    "This above code **is not exception safe**\n",
    "\n",
    "If `f.write()` thows an exception, the file will not be closed\n",
    "\n",
    "You will leak a file descriptor\n",
    "\n",
    "Use the with statement to  ensure resources are always released after having been acquired\n",
    "\n"
   ]
  },
  {
   "cell_type": "code",
   "execution_count": null,
   "metadata": {},
   "outputs": [],
   "source": [
    "with open('../Data/hello.txt', 'w') as f:\n",
    "    f.write('hello, world!')\n"
   ]
  },
  {
   "cell_type": "markdown",
   "metadata": {},
   "source": [
    "The same approach should be used with other resources, e.g. threads\n"
   ]
  },
  {
   "cell_type": "code",
   "execution_count": null,
   "metadata": {},
   "outputs": [],
   "source": [
    "import threading\n",
    "some_lock = threading.Lock()\n",
    "\n",
    "# Harmful:\n",
    "some_lock.acquire()\n",
    "try:\n",
    "    print('Doing something')\n",
    "finally:\n",
    "    some_lock.release()\n"
   ]
  },
  {
   "cell_type": "code",
   "execution_count": null,
   "metadata": {},
   "outputs": [],
   "source": [
    "some_lock = threading.Lock()\n",
    "\n",
    "# Better:\n",
    "with some_lock:\n",
    "    print('Doing something')"
   ]
  },
  {
   "cell_type": "markdown",
   "metadata": {},
   "source": [
    "Other languages use this\n",
    "- C++ - RAII Idiom\n",
    "- Java – try with resources\n",
    "- C#\n"
   ]
  },
  {
   "cell_type": "markdown",
   "metadata": {},
   "source": [
    "# Use of underscores\n",
    "\n",
    "Single and double underscores have a meaning in Python variable and method names. \n",
    "- some of that meaning is merely by convention\n",
    "- some of it is enforced by the Python interpreter\n",
    "\n",
    ">\n",
    "> Single Leading Underscore: `_var` <BR>\n",
    "> Single Trailing Underscore: `var_` <BR>\n",
    "> Double Leading Underscore: `__var` <BR>\n",
    "> Double Leading and Trailing Underscore: `__var__` <BR>\n",
    "> Single Underscore: `_`<BR>\n",
    ">\n"
   ]
  },
  {
   "cell_type": "markdown",
   "metadata": {},
   "source": [
    "## 1) Single Leading Underscore `_var`\n",
    "\n",
    "**Convention Only**\n",
    "- A hint only, not enforced by python interpreter\n",
    "- Variables or functions starting with a single underscore are intended or internal use only.\n",
    "- Python does not have strong distinctions between `private` and `public` variables like other languages.\n"
   ]
  },
  {
   "cell_type": "code",
   "execution_count": null,
   "metadata": {},
   "outputs": [],
   "source": [
    "class Widget:\n",
    "    def __init__(self):\n",
    "        self.foo = 11\n",
    "        self._bar = 23\n",
    "\n",
    "w = Widget()\n",
    "print(w.foo)\n",
    "print(w._bar)\n"
   ]
  },
  {
   "cell_type": "markdown",
   "metadata": {},
   "source": [
    "## 2) Single Trailing Underscore `var_`\n",
    "\n",
    "**Convention Only** \n",
    "- Sometimes the most fitting name for a variable is a Python keyword\n",
    "- E.g. class, def, filter, \n",
    "- Cannot be used as variable names in Python. \n",
    "- In this case, append a single underscore to break the naming conflict"
   ]
  },
  {
   "cell_type": "code",
   "execution_count": null,
   "metadata": {},
   "outputs": [],
   "source": [
    "# Does not compile\n",
    "# def make_object(name, class):\n",
    "\n",
    "\n",
    "def make_object(name, class_):\n",
    "    pass"
   ]
  },
  {
   "cell_type": "markdown",
   "metadata": {},
   "source": [
    "## 3) Double Leading Underscore `__var`\n",
    "\n",
    "**Rule of Language**\n",
    "\n",
    "- Causes the Python interpreter to rewrite the attribute name in order to avoid naming conflicts in subclasses.\n",
    "- AKA **name mangling**"
   ]
  },
  {
   "cell_type": "code",
   "execution_count": null,
   "metadata": {},
   "outputs": [],
   "source": [
    "class Gadget:\n",
    "    def __init__(self):\n",
    "        self.foo = 'Base Class foo'\n",
    "        self._bar = 'Base Class _bar'\n",
    "        self.__baz = 'Base Class __baz'\n",
    "        \n",
    "g1 = Gadget()        \n",
    "print(g1.foo)\n",
    "print(g1._bar)\n",
    "print(dir(g1))\n"
   ]
  },
  {
   "cell_type": "markdown",
   "metadata": {},
   "source": [
    "Note what happens when inheriting\n",
    "\n"
   ]
  },
  {
   "cell_type": "code",
   "execution_count": null,
   "metadata": {},
   "outputs": [],
   "source": [
    "class ExtendedGadget(Gadget):\n",
    "    def __init__(self):\n",
    "        super().__init__()\n",
    "        self.foo = 'Overridden foo'\n",
    "        self._bar = 'Overridden _bar'\n",
    "        self.__baz = 'Overridden __baz'\n",
    "        \n",
    "g2 = ExtendedGadget()\n",
    "print (g2.foo)\n",
    "print(g2._bar)\n",
    "print(dir(g2))"
   ]
  },
  {
   "cell_type": "markdown",
   "metadata": {},
   "source": [
    "**Note**\n",
    "- `foo` and `_bar` are both overridden - as expected \n",
    "- `__baz` has been mangled so that both are accessible from the derived class (`_ExtendedGadget__baz` and `_Gadget__baz`)"
   ]
  },
  {
   "cell_type": "markdown",
   "metadata": {},
   "source": [
    "## What is a dunder ?\n",
    "\n",
    "- Double underscores appear quite often in Python code\n",
    "- Referred to as dunders (double underscore)\n",
    "- Pronounce `__baz` as **dunder baz**.\n",
    "- Likewise, `__init__` would be pronounced as **dunder init** (Not “dunder init dunder.”)\n"
   ]
  },
  {
   "cell_type": "markdown",
   "metadata": {},
   "source": [
    "## 4) Double Leading and Trailing Underscore `__var__`\n",
    "\n",
    "**Convention Only**\n",
    "\n",
    "- Names not mangled when they start and ends with double underscores. \n",
    "- However, such names are reserved for special use in the language. \n",
    "- This rule covers things like <BR>\n",
    "`__init__` for object constructors <BR>\n",
    "`__call__` to make objects <BR>\n",
    "\n",
    "Best practice is to avoid dunders in your own code to avoid collisions with future changes to the Python language\n"
   ]
  },
  {
   "cell_type": "markdown",
   "metadata": {},
   "source": [
    "## 5) Single Underscore: `_`\n",
    "\n",
    "**Convention Only**\n",
    "\n",
    "- Sometimes used as a name to indicate that a variable is temporary or insignificant.\n",
    "- Sometimes as a “don’t care” variable to ignore particular values when unpacking a tuple"
   ]
  },
  {
   "cell_type": "code",
   "execution_count": null,
   "metadata": {},
   "outputs": [],
   "source": [
    "for _ in range(32):\n",
    "    print('Hello, World.')"
   ]
  },
  {
   "cell_type": "code",
   "execution_count": null,
   "metadata": {},
   "outputs": [],
   "source": [
    "def make_gadget():\n",
    "    return 'red', 'auto', 12, 3812.4\n",
    "\n",
    "colour, _, _, mileage = make_gadget()"
   ]
  },
  {
   "cell_type": "markdown",
   "metadata": {},
   "source": [
    "# String Formatting\n",
    "\n",
    "4 ways to format strings\n",
    "\n",
    "- C Style formatting\n",
    "- “New Style” String Formatting\n",
    "- Formatted String Literals\n",
    "- Template Strings"
   ]
  },
  {
   "cell_type": "markdown",
   "metadata": {},
   "source": [
    "## 1) C-Style String Formatting\n",
    "\n",
    "Based on C language printf function -  the %-operator\n",
    "\n",
    "### Single Substitution\n"
   ]
  },
  {
   "cell_type": "code",
   "execution_count": null,
   "metadata": {},
   "outputs": [],
   "source": [
    "fav_song = \"Hey Jude\"\n",
    "\n",
    "s = 'Favourite song is %s' % fav_song\n",
    "\n",
    "print(s)"
   ]
  },
  {
   "cell_type": "markdown",
   "metadata": {},
   "source": [
    "### 2) Multiple Substitution\n",
    "- wrap the right-hand side in a tuple"
   ]
  },
  {
   "cell_type": "code",
   "execution_count": null,
   "metadata": {},
   "outputs": [],
   "source": [
    "fname = \"Bob\"\n",
    "lname = \"Dylan\"\n",
    "\n",
    "s = 'Favourite singer is %s %s' % (fname, lname)\n",
    "\n",
    "print(s)"
   ]
  },
  {
   "cell_type": "markdown",
   "metadata": {},
   "source": [
    "## 2) “New Style” String Formatting\n",
    "\n",
    "Introduced in Python 3, back ported to python 2.7\n",
    "\n",
    "Replaces `%`operator with a `.format()` function and variable substitution\n"
   ]
  },
  {
   "cell_type": "code",
   "execution_count": null,
   "metadata": {},
   "outputs": [],
   "source": [
    "fav_song = \"Hey Jude\"\n",
    "\n",
    "s = 'Favourite song is {}'.format(fav_song)\n",
    "\n",
    "print(s)"
   ]
  },
  {
   "cell_type": "code",
   "execution_count": null,
   "metadata": {},
   "outputs": [],
   "source": [
    "fname = \"Bob\"\n",
    "lname = \"Dylan\"\n",
    "\n",
    "s = 'Favourite singer is {} {}'.format(fname, lname)\n",
    "print(s)\n",
    "\n",
    "# Can refer to variable substitution by name\n",
    "s = 'Favourite singer is {s1} {s2}'.format(s1=fname, s2=lname)\n",
    "print(s)\n"
   ]
  },
  {
   "cell_type": "markdown",
   "metadata": {},
   "source": [
    "## 3) Formatted String Literals\n",
    "\n",
    "Added in python 3.6\n",
    "\n",
    "Use embedded Python expressions inside string constants\n"
   ]
  },
  {
   "cell_type": "code",
   "execution_count": null,
   "metadata": {},
   "outputs": [],
   "source": [
    "fav_song = \"Hey Jude\"\n",
    "\n",
    "s = f'Favourite song is, {fav_song}!'\n",
    "\n",
    "print(s)"
   ]
  },
  {
   "cell_type": "markdown",
   "metadata": {},
   "source": [
    "Can be used to embed arbitrary Python expressions"
   ]
  },
  {
   "cell_type": "code",
   "execution_count": null,
   "metadata": {},
   "outputs": [],
   "source": [
    "a = 5\n",
    "b = 10\n",
    "\n",
    "s = f'Five plus ten is {a + b} and not {2 * (a + b)}.'\n",
    "\n",
    "print(s)"
   ]
  },
  {
   "cell_type": "markdown",
   "metadata": {},
   "source": [
    "## 4) Template Strings\n",
    "\n",
    "A simpler and less powerful mechanism\n"
   ]
  },
  {
   "cell_type": "code",
   "execution_count": null,
   "metadata": {},
   "outputs": [],
   "source": [
    "from string import Template\n",
    "\n",
    "t = Template('Favourite singer is $s1 $s2')\n",
    "\n",
    "s = t.substitute(s1=fname, s2=lname)\n",
    "\n",
    "print(s)\n"
   ]
  },
  {
   "cell_type": "code",
   "execution_count": null,
   "metadata": {},
   "outputs": [],
   "source": []
  },
  {
   "cell_type": "code",
   "execution_count": null,
   "metadata": {},
   "outputs": [],
   "source": []
  },
  {
   "cell_type": "code",
   "execution_count": null,
   "metadata": {},
   "outputs": [],
   "source": []
  },
  {
   "cell_type": "code",
   "execution_count": null,
   "metadata": {},
   "outputs": [],
   "source": []
  },
  {
   "cell_type": "code",
   "execution_count": null,
   "metadata": {},
   "outputs": [],
   "source": []
  },
  {
   "cell_type": "code",
   "execution_count": null,
   "metadata": {},
   "outputs": [],
   "source": []
  },
  {
   "cell_type": "code",
   "execution_count": null,
   "metadata": {},
   "outputs": [],
   "source": []
  }
 ],
 "metadata": {
  "kernelspec": {
   "display_name": "Python 3 (ipykernel)",
   "language": "python",
   "name": "python3"
  },
  "language_info": {
   "codemirror_mode": {
    "name": "ipython",
    "version": 3
   },
   "file_extension": ".py",
   "mimetype": "text/x-python",
   "name": "python",
   "nbconvert_exporter": "python",
   "pygments_lexer": "ipython3",
   "version": "3.10.10"
  },
  "vscode": {
   "interpreter": {
    "hash": "752a8dbf0d2606d0e4a8fd11745a0f3cf206e4848a02eb7bb5eda5c098d7f642"
   }
  }
 },
 "nbformat": 4,
 "nbformat_minor": 4
}
