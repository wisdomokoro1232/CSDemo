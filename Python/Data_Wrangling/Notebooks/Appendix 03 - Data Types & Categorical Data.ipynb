{
 "cells": [
  {
   "cell_type": "markdown",
   "metadata": {},
   "source": [
    "# Introduction\n",
    "\n",
    "This notebook will explain the following topics and concepts:\n",
    "\n",
    "\n",
    "1) Converting to Strings \n",
    "\n",
    "2) Converting to NUmerics \n",
    "\n",
    "3) Categorical Data\n",
    "\n",
    "4) Converting to Categories\n",
    "\n",
    "5) Manipulating Categories\n"
   ]
  },
  {
   "cell_type": "markdown",
   "metadata": {},
   "source": [
    "# Import the data"
   ]
  },
  {
   "cell_type": "code",
   "execution_count": 1,
   "metadata": {},
   "outputs": [
    {
     "name": "stdout",
     "output_type": "stream",
     "text": [
      "ID              int64\n",
      "total_bill    float64\n",
      "tip           float64\n",
      "gender         object\n",
      "smoker         object\n",
      "day            object\n",
      "time           object\n",
      "size            int64\n",
      "dtype: object\n"
     ]
    }
   ],
   "source": [
    "import warnings\n",
    "warnings.filterwarnings(\"ignore\", category=DeprecationWarning) \n",
    "warnings.filterwarnings(\"ignore\", category=FutureWarning) \n",
    "\n",
    "import pandas as pd\n",
    "\n",
    "\n",
    "df_tips = pd.read_csv(filepath_or_buffer='../Data/tips.csv')\n",
    "\n",
    "print(df_tips.dtypes)"
   ]
  },
  {
   "cell_type": "markdown",
   "metadata": {},
   "source": [
    "# Converting to Strings\n",
    "\n",
    "use `astype(...)`\n",
    "-  main parameter is dtype - can be any built in python type = str, float, int,. bool, complex \n",
    "- can also be any dtype specified in numpy library\n"
   ]
  },
  {
   "cell_type": "code",
   "execution_count": 2,
   "metadata": {},
   "outputs": [
    {
     "name": "stdout",
     "output_type": "stream",
     "text": [
      "object\n",
      "object\n"
     ]
    }
   ],
   "source": [
    "# Before\n",
    "print(df_tips['gender'].dtypes)\n",
    "\n",
    "# After\n",
    "df_tips['gender_str'] = df_tips['gender'].astype(dtype=str)\n",
    "print(df_tips['gender_str'].dtypes)"
   ]
  },
  {
   "cell_type": "markdown",
   "metadata": {},
   "source": [
    "# Converting to Numeric Values\n",
    "\n",
    "use same `astype(...)` function"
   ]
  },
  {
   "cell_type": "code",
   "execution_count": 3,
   "metadata": {},
   "outputs": [
    {
     "name": "stdout",
     "output_type": "stream",
     "text": [
      "ID              int64\n",
      "total_bill    float64\n",
      "tip           float64\n",
      "gender         object\n",
      "smoker         object\n",
      "day            object\n",
      "time           object\n",
      "size            int64\n",
      "gender_str     object\n",
      "dtype: object\n",
      "ID              int64\n",
      "total_bill     object\n",
      "tip           float64\n",
      "gender         object\n",
      "smoker         object\n",
      "day            object\n",
      "time           object\n",
      "size            int64\n",
      "gender_str     object\n",
      "dtype: object\n",
      "ID              int64\n",
      "total_bill    float64\n",
      "tip           float64\n",
      "gender         object\n",
      "smoker         object\n",
      "day            object\n",
      "time           object\n",
      "size            int64\n",
      "gender_str     object\n",
      "dtype: object\n"
     ]
    }
   ],
   "source": [
    "# Before\n",
    "print(df_tips.dtypes)\n",
    "\n",
    "# Change total_bill to string\n",
    "df_tips['total_bill'] = df_tips['total_bill'].astype(str)\n",
    "print(df_tips.dtypes)\n",
    "\n",
    "# Change total_bill back to a float\n",
    "df_tips['total_bill'] = df_tips['total_bill'].astype(float)\n",
    "print(df_tips.dtypes)"
   ]
  },
  {
   "cell_type": "markdown",
   "metadata": {},
   "source": [
    "Use `pandas.to_numeric()`"
   ]
  },
  {
   "cell_type": "code",
   "execution_count": 4,
   "metadata": {},
   "outputs": [
    {
     "name": "stdout",
     "output_type": "stream",
     "text": [
      "ID              int64\n",
      "total_bill     object\n",
      "tip           float64\n",
      "gender         object\n",
      "smoker         object\n",
      "day            object\n",
      "time           object\n",
      "size            int64\n",
      "gender_str     object\n",
      "dtype: object\n"
     ]
    },
    {
     "data": {
      "text/plain": [
       "0    16.99\n",
       "1      NaN\n",
       "2    21.01\n",
       "3      NaN\n",
       "4    24.59\n",
       "5      NaN\n",
       "6     8.77\n",
       "7      NaN\n",
       "8    15.04\n",
       "9    14.78\n",
       "Name: total_bill, dtype: float64"
      ]
     },
     "execution_count": 4,
     "metadata": {},
     "output_type": "execute_result"
    }
   ],
   "source": [
    "# Artificially construct some data with a value of 'missing' for some of the total_bill values\n",
    "df_tmp = df_tips.head(10).copy()\n",
    "\n",
    "df_tmp.loc[ [1,3,5,7], 'total_bill'] = 'missing'\n",
    "\n",
    "# Before\n",
    "df_tmp\n",
    "print(df_tmp.dtypes)\n",
    "\n",
    "\n",
    "# convert 'total_bill' to float - ERRORS - cannot convert 'missing' to a float\n",
    "#df_tmp['total_bill'].astype(float)\n",
    "\n",
    "# convert 'total_bill' to float - ERRORS - cannot convert 'missing' to a float\n",
    "#pd.to_numeric(df_tmp['total_bill'])\n",
    "\n",
    "# Use errors to ignore errors\n",
    "pd.to_numeric(df_tmp['total_bill'], errors='ignore')\n",
    "\n",
    "# Use errors to convert 'missing' to Nan\n",
    "pd.to_numeric(df_tmp['total_bill'], errors='coerce')\n"
   ]
  },
  {
   "cell_type": "markdown",
   "metadata": {},
   "source": [
    "# Categorical Data\n",
    "\n",
    "Some values naturall fall into categories\n",
    "\n",
    "e.g. gender (male, female)\n",
    "     risk (high, medium, low)\n",
    "     asset class (equity, fixed income, commodity)\n",
    "     \n",
    "Use `astype('category')` to have pandas re-code a series or DataFrame into a Category"
   ]
  },
  {
   "cell_type": "code",
   "execution_count": 5,
   "metadata": {},
   "outputs": [
    {
     "name": "stdout",
     "output_type": "stream",
     "text": [
      "<class 'pandas.core.frame.DataFrame'>\n",
      "RangeIndex: 244 entries, 0 to 243\n",
      "Data columns (total 9 columns):\n",
      " #   Column      Non-Null Count  Dtype  \n",
      "---  ------      --------------  -----  \n",
      " 0   ID          244 non-null    int64  \n",
      " 1   total_bill  244 non-null    float64\n",
      " 2   tip         244 non-null    float64\n",
      " 3   gender      244 non-null    object \n",
      " 4   smoker      244 non-null    object \n",
      " 5   day         244 non-null    object \n",
      " 6   time        244 non-null    object \n",
      " 7   size        244 non-null    int64  \n",
      " 8   gender_str  244 non-null    object \n",
      "dtypes: float64(2), int64(2), object(5)\n",
      "memory usage: 17.3+ KB\n",
      "None\n",
      "<class 'pandas.core.frame.DataFrame'>\n",
      "RangeIndex: 244 entries, 0 to 243\n",
      "Data columns (total 9 columns):\n",
      " #   Column      Non-Null Count  Dtype   \n",
      "---  ------      --------------  -----   \n",
      " 0   ID          244 non-null    int64   \n",
      " 1   total_bill  244 non-null    float64 \n",
      " 2   tip         244 non-null    float64 \n",
      " 3   gender      244 non-null    category\n",
      " 4   smoker      244 non-null    object  \n",
      " 5   day         244 non-null    object  \n",
      " 6   time        244 non-null    object  \n",
      " 7   size        244 non-null    int64   \n",
      " 8   gender_str  244 non-null    object  \n",
      "dtypes: category(1), float64(2), int64(2), object(4)\n",
      "memory usage: 15.7+ KB\n",
      "None\n"
     ]
    },
    {
     "data": {
      "text/plain": [
       "0      0\n",
       "1      1\n",
       "2      1\n",
       "3      1\n",
       "4      0\n",
       "      ..\n",
       "239    1\n",
       "240    0\n",
       "241    1\n",
       "242    1\n",
       "243    0\n",
       "Length: 244, dtype: int8"
      ]
     },
     "execution_count": 5,
     "metadata": {},
     "output_type": "execute_result"
    }
   ],
   "source": [
    "# change sex coilumn to a string\n",
    "df_tips['gender'] = df_tips['gender'].astype('str')\n",
    "\n",
    "# before\n",
    "print(df_tips.info())\n",
    "\n",
    "# after - change sex to a category\n",
    "df_tips['gender'] = df_tips['gender'].astype('category')\n",
    "print(df_tips.info())\n",
    "\n",
    "# Display the Categories\n",
    "df_tips['gender'].cat.categories\n",
    "\n",
    "# Are they ordered\n",
    "df_tips['gender'].cat.ordered\n",
    "\n",
    "# Display the codes\n",
    "df_tips['gender'].cat.codes\n"
   ]
  },
  {
   "cell_type": "code",
   "execution_count": null,
   "metadata": {},
   "outputs": [],
   "source": []
  },
  {
   "cell_type": "code",
   "execution_count": null,
   "metadata": {},
   "outputs": [],
   "source": []
  },
  {
   "cell_type": "code",
   "execution_count": null,
   "metadata": {},
   "outputs": [],
   "source": []
  },
  {
   "cell_type": "code",
   "execution_count": null,
   "metadata": {},
   "outputs": [],
   "source": []
  }
 ],
 "metadata": {
  "kernelspec": {
   "display_name": "Python 3 (ipykernel)",
   "language": "python",
   "name": "python3"
  },
  "language_info": {
   "codemirror_mode": {
    "name": "ipython",
    "version": 3
   },
   "file_extension": ".py",
   "mimetype": "text/x-python",
   "name": "python",
   "nbconvert_exporter": "python",
   "pygments_lexer": "ipython3",
   "version": "3.10.10"
  }
 },
 "nbformat": 4,
 "nbformat_minor": 4
}
