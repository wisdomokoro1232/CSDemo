{
 "cells": [
  {
   "cell_type": "markdown",
   "id": "daae05bc-2ae2-4a54-a7be-479b75956585",
   "metadata": {},
   "source": [
    "# Type Hints\n",
    "\n",
    "Type hints in Python provide an incredible way to specify explicit information about:\n",
    "\n",
    "- the expected types of function arguments\n",
    "- their return type.\n",
    "\n",
    "\n",
    "However Python **NEVER** enforces them.\n",
    "\n",
    "Irrespective, type hints are becoming increasingly valuable to Python projects lately.\n",
    "\n",
    "Despite not being enforced, Python developers find them extremely useful to improve code quality and maintainability.\n"
   ]
  },
  {
   "cell_type": "markdown",
   "id": "c109e81c-fb04-47ca-9870-1a192b9c5032",
   "metadata": {},
   "source": [
    "# Type hints for standard Python objects\n",
    "\n",
    "The most basic (and must-know) way to declare type hints for standard Python objects is as follows:"
   ]
  },
  {
   "cell_type": "code",
   "execution_count": null,
   "id": "3aa03567-983c-495e-b7b7-d63e39820886",
   "metadata": {
    "tags": []
   },
   "outputs": [],
   "source": [
    "emp_name: str = 'Jim'\n",
    "emp_year: int = 2021\n",
    "emp_task: list = []\n",
    "emp_proj: tuple = ()\n",
    "emp_info: dict = {}"
   ]
  },
  {
   "cell_type": "markdown",
   "id": "e485a296-331e-4f63-a4bb-ac40519812e9",
   "metadata": {},
   "source": [
    "Everyone knows the above type hints as these are quite common.\n",
    "\n",
    "For list, tuple and dict specifically, however, it is recommended to use the typing module instead because it lets us provide more information about the object:"
   ]
  },
  {
   "cell_type": "code",
   "execution_count": null,
   "id": "7dadea7a-bf8e-4f46-8582-64fc9d54c04d",
   "metadata": {
    "tags": []
   },
   "outputs": [],
   "source": [
    "from typing import List, Tuple, Dict\n",
    "\n",
    "emp_task: List[int] = []        # List of ints\n",
    "emp_proj: Tuple[str] = ()       # Tuple of strings\n",
    "emp_info: Dict[int, str] = {}   # Dict of int to string"
   ]
  },
  {
   "cell_type": "markdown",
   "id": "d461008b-326f-4ea1-a22f-f3f348c7bee2",
   "metadata": {},
   "source": [
    "# Multiple type hints for an object\n",
    "\n",
    "If an object can have multiple types, use the `Union` keyword (or the `pipe symbol` if you are using Python 3.10 or above):"
   ]
  },
  {
   "cell_type": "code",
   "execution_count": null,
   "id": "6353bf5b-004a-4093-bc1c-ceea4e5f7568",
   "metadata": {
    "tags": []
   },
   "outputs": [],
   "source": [
    "from typing import Union\n",
    "\n",
    "side = 3\n",
    "\n",
    "area: Union[int, float] = side*side # area can be int OR float"
   ]
  },
  {
   "cell_type": "code",
   "execution_count": null,
   "id": "94d5f1fe-c693-45e0-ad22-8d05ad1f4dec",
   "metadata": {
    "tags": []
   },
   "outputs": [],
   "source": [
    "area: int|float = side*side # since python 3.10"
   ]
  },
  {
   "cell_type": "markdown",
   "id": "e95dffeb-1f10-440d-ae0c-268752a5a271",
   "metadata": {},
   "source": [
    "# Types hints for None values\n",
    "\n",
    "Sometimes, an object can be None or have any other standard data type(s). \n",
    "\n",
    "Declare such objects as follows:"
   ]
  },
  {
   "cell_type": "code",
   "execution_count": null,
   "id": "0b2002e1-9407-44c3-9fb2-13dbcf874650",
   "metadata": {
    "tags": []
   },
   "outputs": [],
   "source": [
    "from typing import Optional\n",
    "\n",
    "count: Optional[int] = 10 # count can be int or None"
   ]
  },
  {
   "cell_type": "markdown",
   "id": "0904b46c-79eb-4311-b1bf-bb04f9c8524c",
   "metadata": {},
   "source": [
    "# Type hints for iterable\n",
    "\n",
    "Iterables are objects you can iterate on — `list`, `tuple`, `set` or `dict`.\n",
    "\n",
    "Declare such objects as follows:"
   ]
  },
  {
   "cell_type": "code",
   "execution_count": null,
   "id": "4c4d6f9c-95bc-430a-a5a1-5f4d6d7a13bf",
   "metadata": {
    "tags": []
   },
   "outputs": [],
   "source": [
    "from typing import Iterable\n",
    "\n",
    "def total_sum(arr: Iterable):\n",
    "    print(f'Type(arr):{type(arr)}, arr:{arr}, sum(arr): {sum(arr)}')\n",
    "  \n",
    "    \n",
    "total_sum([1,2,3,4,5])\n",
    "\n",
    "total_sum({1,2,3,4,5})\n",
    "\n",
    "total_sum((1,2,3,4,5))\n",
    "\n",
    "total_sum({1:'A',2:'B',3:'C',4:'D',5:'E'})\n"
   ]
  },
  {
   "cell_type": "markdown",
   "id": "63bc13a6-bca5-4b5d-842f-cc4b495f68eb",
   "metadata": {
    "tags": []
   },
   "source": [
    "# Type hints for constant objects\n",
    "\n",
    "Some objects can never change their value throughout the program. \n",
    "\n",
    "They must remain constant. \n",
    "\n",
    "Declare them using `Final` as follows:"
   ]
  },
  {
   "cell_type": "code",
   "execution_count": null,
   "id": "9e0c3b70-b6fb-4f6a-bc10-047a78f764d6",
   "metadata": {
    "tags": []
   },
   "outputs": [],
   "source": [
    "from typing import Final\n",
    "\n",
    "PI: Final = 3.1412 # a constant object"
   ]
  },
  {
   "cell_type": "markdown",
   "id": "5bc75329-31e4-4764-9c95-aefac2631f5e",
   "metadata": {},
   "source": [
    "# Type hints for fixed values\n",
    "\n",
    "Some objects may not be constant but may only take a fixed set of values. \n",
    "\n",
    "For instance, grade may only take values from a fixed set of grades."
   ]
  },
  {
   "cell_type": "code",
   "execution_count": null,
   "id": "18cde229-3a9e-405e-8e77-3e57cab52a14",
   "metadata": {
    "tags": []
   },
   "outputs": [],
   "source": [
    "from typing import Literal\n",
    "\n",
    "grade: Literal['A','B','C','D','E','F'] # fixed set of values for grade\n",
    "\n",
    "grade = 'A'"
   ]
  },
  {
   "cell_type": "markdown",
   "id": "aa173977-0f3d-4dd5-bb9d-69a170e0efcf",
   "metadata": {},
   "source": [
    "# Type hints for objects with any possible value\n",
    "\n",
    "Some objects could be of any type — `list`, `int`, `string`, etc. Declare them as follows:"
   ]
  },
  {
   "cell_type": "code",
   "execution_count": null,
   "id": "47a8db71-cb5c-4ac2-ac96-4d33b4e1e534",
   "metadata": {
    "tags": []
   },
   "outputs": [],
   "source": [
    "from typing import Any\n",
    "\n",
    "data: Any = 10 # any data type"
   ]
  },
  {
   "cell_type": "markdown",
   "id": "d6d83860-9b2c-4ba2-8c2b-d659f72c5867",
   "metadata": {},
   "source": [
    "# Type hints in functions\n",
    "\n",
    "Declare type hints in functions in two places:\n",
    "\n",
    "- To specify type hints for its parameters.\n",
    "- To specify the type hint for the object returned by the function."
   ]
  },
  {
   "cell_type": "code",
   "execution_count": null,
   "id": "0ddc9476-389d-4994-8a07-b37da145ee72",
   "metadata": {
    "tags": []
   },
   "outputs": [],
   "source": [
    "def munge_string(s1:str, s2:str) -> str:\n",
    "\n",
    "    return (s1+s2)[::-1]\n",
    "\n",
    "munge_string(\"hello\", \"world\")"
   ]
  },
  {
   "cell_type": "markdown",
   "id": "399cc0b6-bc99-4143-9364-c9016ffbebda",
   "metadata": {},
   "source": [
    "You can use any of the above discussed type hints to declare type hints in functions — Any, Union, Iterable, Optional etc."
   ]
  },
  {
   "cell_type": "markdown",
   "id": "0a990c6f-fbe5-4a6c-bdf0-35c2ca8b21dd",
   "metadata": {},
   "source": [
    "# Type hint of a function object\n",
    "\n",
    "At times, a function may have another function as its parameters, for example in Python decorators.\n",
    "\n",
    "Declare the data type for such parameters as follows:\n",
    "\n",
    "`Callable`, is any object that can be invoked — object()"
   ]
  },
  {
   "cell_type": "code",
   "execution_count": null,
   "id": "7da6bca1-c605-4aa2-ab82-b1519b8f34ee",
   "metadata": {
    "tags": []
   },
   "outputs": [],
   "source": [
    "from typing import Callable\n",
    "\n",
    "\n",
    "def foo(func: Callable, n: int) -> float:\n",
    "    return func(n)\n"
   ]
  },
  {
   "cell_type": "code",
   "execution_count": null,
   "id": "da3a442c-39c7-49d6-bdfd-9ba7b08fdb37",
   "metadata": {
    "tags": []
   },
   "outputs": [],
   "source": [
    "# a user defined function\n",
    "\n",
    "def bar(n):\n",
    "    return 2*n**2 + 4*n + 5\n",
    "\n",
    "foo(bar, 2)"
   ]
  },
  {
   "cell_type": "code",
   "execution_count": null,
   "id": "59d57bdb-eaf0-4673-9179-eeba0e0c1975",
   "metadata": {
    "tags": []
   },
   "outputs": [],
   "source": [
    "# an imported function\n",
    "\n",
    "import math\n",
    "\n",
    "foo(math.log10, 100)"
   ]
  },
  {
   "cell_type": "code",
   "execution_count": null,
   "id": "cf173544-3624-46a6-8867-83f7f060e03d",
   "metadata": {
    "tags": []
   },
   "outputs": [],
   "source": [
    "# a user defined class with operator() defined\n",
    "\n",
    "class Munger:\n",
    "    def __call__(self, s: str) -> str:\n",
    "        return (s*5)[::-1]\n",
    "    \n",
    "munger = Munger()\n",
    "\n",
    "foo(munger, \"Hello\")"
   ]
  },
  {
   "cell_type": "markdown",
   "id": "0e646fce-34f1-4150-bc27-a585223565fb",
   "metadata": {},
   "source": [
    "# Type hint aliasing\n",
    "\n",
    "If type hints become big, complex, and unreadable, then alias them by declaring shorter names for them:"
   ]
  },
  {
   "cell_type": "code",
   "execution_count": null,
   "id": "cf0182fe-e6b9-4eb8-829f-a0dd8ad2cbd1",
   "metadata": {
    "tags": []
   },
   "outputs": [],
   "source": [
    "from typing import TypeAlias # since python 3.10\n",
    "\n",
    "IntFloStr: TypeAlias = Union[int, float, str]\n",
    "\n",
    "data: IntFloStr = 10"
   ]
  },
  {
   "cell_type": "code",
   "execution_count": null,
   "id": "c554f1de-e295-411a-8af5-5805c465e26a",
   "metadata": {},
   "outputs": [],
   "source": []
  }
 ],
 "metadata": {
  "kernelspec": {
   "display_name": "Python 3 (ipykernel)",
   "language": "python",
   "name": "python3"
  },
  "language_info": {
   "codemirror_mode": {
    "name": "ipython",
    "version": 3
   },
   "file_extension": ".py",
   "mimetype": "text/x-python",
   "name": "python",
   "nbconvert_exporter": "python",
   "pygments_lexer": "ipython3",
   "version": "3.11.7"
  }
 },
 "nbformat": 4,
 "nbformat_minor": 5
}
