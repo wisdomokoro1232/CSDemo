{
 "cells": [
  {
   "cell_type": "markdown",
   "metadata": {},
   "source": [
    "# Crosstabs\n",
    "\n",
    "`pandas.crosstab()` is another function that builds summary data\n",
    "\n",
    "The pandas crosstab function builds a cross-tabulation table that can show the frequency with which certain groups of data appear. \n",
    "\n"
   ]
  },
  {
   "cell_type": "markdown",
   "metadata": {},
   "source": [
    "## Import the data\n",
    "\n",
    "For this demo, only interested in the following subset of car manufacturers\n",
    ">\n",
    "> \"toyota\",\"nissan\",\"mazda\", \"honda\", \"mitsubishi\", \"subaru\", \"volkswagen\", \"volvo\"\n",
    ">"
   ]
  },
  {
   "cell_type": "code",
   "execution_count": null,
   "metadata": {},
   "outputs": [],
   "source": [
    "import warnings\n",
    "warnings.filterwarnings(\"ignore\", category=DeprecationWarning) \n",
    "warnings.filterwarnings(\"ignore\", category=FutureWarning) \n",
    "\n",
    "import pandas as pd\n",
    "import seaborn as sns\n",
    "\n",
    "# Define the headers since the data does not have any\n",
    "headers = [\"symboling\", \"normalized_losses\", \"make\", \"fuel_type\", \"aspiration\",\n",
    "           \"num_doors\", \"body_style\", \"drive_wheels\", \"engine_location\",\n",
    "           \"wheel_base\", \"length\", \"width\", \"height\", \"curb_weight\",\n",
    "           \"engine_type\", \"num_cylinders\", \"engine_size\", \"fuel_system\",\n",
    "           \"bore\", \"stroke\", \"compression_ratio\", \"horsepower\", \"peak_rpm\",\n",
    "           \"city_mpg\", \"highway_mpg\", \"price\"]\n",
    "\n",
    "# Read in the CSV file and convert \"?\" to NaN\n",
    "df_raw = pd.read_csv(filepath_or_buffer='../Data/cars.csv',\n",
    "                     header=None, names=headers, na_values=\"?\" )\n",
    "\n",
    "# Define a list of models that we want to review\n",
    "models = [\"toyota\",\"nissan\",\"mazda\", \"honda\", \"mitsubishi\", \"subaru\", \"volkswagen\", \"volvo\"]\n",
    "\n",
    "# Create a copy of the data with only the top 8 manufacturers\n",
    "df = df_raw[df_raw.make.isin(models)].copy()"
   ]
  },
  {
   "cell_type": "markdown",
   "metadata": {},
   "source": [
    "## How many different body styles these car makers made\n",
    "\n",
    "The crosstab function can operate on numpy arrays, series or columns in a dataframe. \n",
    "\n",
    "Here, `df.make` is set to be the crosstab index and `df.body_style` is the crosstab’s columns. \n",
    "\n",
    "Pandas does that work behind the scenes to count how many occurrences there are of each combination. \n",
    "\n",
    "For example, in this data set Volvo makes 8 sedans and 3 wagons."
   ]
  },
  {
   "cell_type": "code",
   "execution_count": null,
   "metadata": {},
   "outputs": [],
   "source": [
    "pd.crosstab(df['make'], df['body_style'])"
   ]
  },
  {
   "cell_type": "markdown",
   "metadata": {},
   "source": [
    "### Use a groupby followed by an unstack to get the same results"
   ]
  },
  {
   "cell_type": "code",
   "execution_count": null,
   "metadata": {},
   "outputs": [],
   "source": [
    "df.groupby(['make', 'body_style'])['body_style'].count().unstack().fillna(0)"
   ]
  },
  {
   "cell_type": "markdown",
   "metadata": {},
   "source": [
    "### Use a pivot_table followed by an unstack to get the same results"
   ]
  },
  {
   "cell_type": "code",
   "execution_count": null,
   "metadata": {},
   "outputs": [],
   "source": [
    "df.pivot_table(index=df['make'], columns=df['body_style'], aggfunc={'body_style':len}, fill_value=0)"
   ]
  },
  {
   "cell_type": "markdown",
   "metadata": {},
   "source": [
    "## Add Subtotals\n",
    "\n",
    "use the `margins` keyword:"
   ]
  },
  {
   "cell_type": "code",
   "execution_count": null,
   "metadata": {},
   "outputs": [],
   "source": [
    "pd.crosstab(index=df['make'], columns=df['num_doors'], margins=True, margins_name=\"Total\")"
   ]
  },
  {
   "cell_type": "markdown",
   "metadata": {},
   "source": [
    "## Add aggregation\n",
    "\n",
    "use the `aggfunc` parameter\n",
    "\n",
    "specify the columns using the `values` parameter"
   ]
  },
  {
   "cell_type": "code",
   "execution_count": null,
   "metadata": {},
   "outputs": [],
   "source": [
    "pd.crosstab(index=df['make'], columns=df['body_style'], values=df.curb_weight, aggfunc='mean').round(0)"
   ]
  },
  {
   "cell_type": "markdown",
   "metadata": {},
   "source": [
    "## Normalize\n",
    "\n",
    "The precentage time each combination occurs"
   ]
  },
  {
   "cell_type": "code",
   "execution_count": null,
   "metadata": {},
   "outputs": [],
   "source": [
    "pd.crosstab(index=df['make'], columns=df['body_style'], normalize=True)"
   ]
  },
  {
   "cell_type": "markdown",
   "metadata": {},
   "source": [
    ">\n",
    ">The table above shows that 2.3% of the total population are Toyota hardtops and 6.25% are Volvo sedans.\n",
    ">"
   ]
  },
  {
   "cell_type": "markdown",
   "metadata": {},
   "source": [
    "### Normalize on colums only"
   ]
  },
  {
   "cell_type": "code",
   "execution_count": null,
   "metadata": {},
   "outputs": [],
   "source": [
    "pd.crosstab(index=df['make'], columns=df['body_style'], normalize='columns')"
   ]
  },
  {
   "cell_type": "markdown",
   "metadata": {},
   "source": [
    ">\n",
    "> This table shows that 50% of the convertibles are made by Toyota and the other 50% by Volkswagen.\n",
    ">"
   ]
  },
  {
   "cell_type": "markdown",
   "metadata": {},
   "source": [
    "### Normalize on rows only"
   ]
  },
  {
   "cell_type": "code",
   "execution_count": null,
   "metadata": {},
   "outputs": [],
   "source": [
    "pd.crosstab(index=df['make'], columns=df['body_style'], normalize='index')"
   ]
  },
  {
   "cell_type": "markdown",
   "metadata": {},
   "source": [
    ">\n",
    "> The above table shows that of the Mitsubishi cars in this dataset, 69.23% are hatchbacks and the remainder (30.77%) are sedans.\n",
    ">"
   ]
  },
  {
   "cell_type": "markdown",
   "metadata": {},
   "source": [
    "# Grouping\n",
    "\n",
    "An extremely useful feature is to pass in multiple dataframe columns and pandas does all the grouping for you. \n",
    "\n",
    "For instance, to see how the data is distributed by front wheel drive (fwd) and rear wheel drive (rwd), \n",
    " - include the `drive_wheels` column by including it in the list of valid columns in the second argument to the crosstab ."
   ]
  },
  {
   "cell_type": "code",
   "execution_count": null,
   "metadata": {},
   "outputs": [],
   "source": [
    "cols = [ df['body_style'], df['drive_wheels'] ]\n",
    "\n",
    "pd.crosstab(index=df['make'], columns=cols)"
   ]
  },
  {
   "cell_type": "markdown",
   "metadata": {},
   "source": [
    "# Group the index\n",
    "\n",
    "Included the specific rownames and colnames to include in the output. This is purely for display purposes but can be useful if the column names in the dataframe are not very specific.\n",
    "\n",
    "Use `dropna=False` at the end of the function call. This is =to make sure to include all the rows and columns even if they had all 0’s. \n",
    "\n",
    "If it was not include it, then the final Volvo, two door row would have been omitted from the table.\n"
   ]
  },
  {
   "cell_type": "code",
   "execution_count": null,
   "metadata": {},
   "outputs": [],
   "source": [
    "cols = [ df['body_style'], df['drive_wheels'] ]\n",
    "idx  = [ df['make'], df['num_doors'] ]\n",
    "\n",
    "pd.crosstab(index=idx, columns=cols,\n",
    "            rownames=['Auto Manufacturer', \"Doors\"],\n",
    "            colnames=['Body Style', \"Drive Type\"],\n",
    "            dropna=False)"
   ]
  },
  {
   "cell_type": "markdown",
   "metadata": {},
   "source": [
    "# Visualizing\n",
    "\n",
    "Create a heatmap using `seaborn.heatmap()` function."
   ]
  },
  {
   "cell_type": "code",
   "execution_count": null,
   "metadata": {},
   "outputs": [],
   "source": [
    "cols = [ df['body_style'], df['drive_wheels'] ]\n",
    "idx  = [ df['make'], df['num_doors'] ]\n",
    "crosstab = pd.crosstab([df.make, df.num_doors], [df.body_style, df.drive_wheels])\n",
    "\n",
    "sns.heatmap(data=crosstab, cmap=\"YlGnBu\", annot=True, cbar=True)"
   ]
  },
  {
   "cell_type": "markdown",
   "metadata": {},
   "source": [
    "# Cheat - Sheet\n",
    "\n",
    "<img style=\"float: center;\" width=\"1440\" src=\"../Images/crosstab.png\">"
   ]
  },
  {
   "cell_type": "code",
   "execution_count": null,
   "metadata": {},
   "outputs": [],
   "source": []
  },
  {
   "cell_type": "code",
   "execution_count": null,
   "metadata": {},
   "outputs": [],
   "source": []
  },
  {
   "cell_type": "code",
   "execution_count": null,
   "metadata": {},
   "outputs": [],
   "source": []
  },
  {
   "cell_type": "code",
   "execution_count": null,
   "metadata": {},
   "outputs": [],
   "source": []
  },
  {
   "cell_type": "code",
   "execution_count": null,
   "metadata": {},
   "outputs": [],
   "source": []
  },
  {
   "cell_type": "code",
   "execution_count": null,
   "metadata": {},
   "outputs": [],
   "source": []
  },
  {
   "cell_type": "code",
   "execution_count": null,
   "metadata": {},
   "outputs": [],
   "source": [
    "\n"
   ]
  }
 ],
 "metadata": {
  "kernelspec": {
   "display_name": "Python 3 (ipykernel)",
   "language": "python",
   "name": "python3"
  },
  "language_info": {
   "codemirror_mode": {
    "name": "ipython",
    "version": 3
   },
   "file_extension": ".py",
   "mimetype": "text/x-python",
   "name": "python",
   "nbconvert_exporter": "python",
   "pygments_lexer": "ipython3",
   "version": "3.10.10"
  }
 },
 "nbformat": 4,
 "nbformat_minor": 4
}
