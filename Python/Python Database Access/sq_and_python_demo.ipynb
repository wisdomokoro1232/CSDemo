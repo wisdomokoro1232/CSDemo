{
 "cells": [
  {
   "cell_type": "code",
   "execution_count": null,
   "id": "b5c5b5ba",
   "metadata": {},
   "outputs": [],
   "source": [
    "import mysql.connector\n",
    "\n",
    "mydb = myql.connector.connect(\n",
    "    host=\"localhost\",\n",
    "    user=\"yourusername\",\n",
    "    database=\"yourdatabase\"\n",
    ")"
   ]
  }
 ],
 "metadata": {
  "kernelspec": {
   "display_name": ".venv",
   "language": "python",
   "name": "python3"
  },
  "language_info": {
   "name": "python",
   "version": "3.12.1"
  }
 },
 "nbformat": 4,
 "nbformat_minor": 5
}
